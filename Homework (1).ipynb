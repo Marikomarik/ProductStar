{
  "metadata": {
    "colab": {
      "provenance": []
    },
    "kernelspec": {
      "name": "python",
      "display_name": "Python (Pyodide)",
      "language": "python"
    },
    "language_info": {
      "codemirror_mode": {
        "name": "python",
        "version": 3
      },
      "file_extension": ".py",
      "mimetype": "text/x-python",
      "name": "python",
      "nbconvert_exporter": "python",
      "pygments_lexer": "ipython3",
      "version": "3.8"
    }
  },
  "nbformat_minor": 5,
  "nbformat": 4,
  "cells": [
    {
      "cell_type": "markdown",
      "source": "# Задача",
      "metadata": {
        "id": "5a7d23bc"
      },
      "id": "5a7d23bc"
    },
    {
      "cell_type": "markdown",
      "source": "Напишите функцию, которая будет находить корни квадратного уравнения вида `a * x^2 + b * x + c = 0` и печатать результаты.\n\n- функция должна называться `solve` и иметь входные параметры `a, b, c`;\n- для вычисления дискриминанта, она должна вызывать другую функцию `discriminant`;\n\nЗаготовки для функций и описание логики их работы приведены ниже.",
      "metadata": {
        "id": "37d91ebd"
      },
      "id": "37d91ebd"
    },
    {
      "cell_type": "code",
      "source": "from math import sqrt # требуется для вычисления квадратного корня. Испорт модулей, используемый здесь, будет разобран далее в курсе",
      "metadata": {
        "id": "6ed2c24a",
        "trusted": true
      },
      "execution_count": 6,
      "outputs": [],
      "id": "6ed2c24a"
    },
    {
      "cell_type": "code",
      "source": "def discriminant(a, b, c):\n    \"\"\"Функция для вычисления дискриминанта\"\"\"\n    # возвращать значение, посчитанное по формуле b**2 - 4 * a * c\n    return b**2-4*a*c",
      "metadata": {
        "id": "21eb289f",
        "trusted": true
      },
      "execution_count": 4,
      "outputs": [],
      "id": "21eb289f"
    },
    {
      "cell_type": "code",
      "source": "def solve(a, b, c):\n    \"\"\"Функция, которая вычисляет корни квадратного уравнения\"\"\"\n    # 1. Вычислить дискриминант с использованием функции discriminant и сохранить результат в переменную d\n    # 2. Если d < 0, печатать сообщение \"Корней нет\"\n    # 3. Если d == 0, печатать сообщение \"Один корень, x = <значение>\"\n    #    Формула, по которой считается корень в этом случае: x = - b / 2 / a\n    # 4. Если d > 0, печатать сообщение \"Два корня, x1 = <первое значение>, x2 = <второе значение>\"\n    #    Формулы, по которым считаются корни:\n    #        x1 = (-b + sqrt(d)) / 2 / a\n    #        x2 = (-b - sqrt(d)) / 2 / a\n    \n    # Для печати результатов рекомендуется использовать f-строки\n    d = discriminant(a, b, c)\n    if d>0:\n        print(f'x1 = {(-b + sqrt(d)) / 2 / a}')\n        print(f'x2 = {(-b - sqrt(d)) / 2 / a}')\n    elif d==0:\n        print(f'x1 = {(-b + sqrt(d)) / 2 / a}')\n    else:\n        print('Ответа нет')",
      "metadata": {
        "id": "69629c98",
        "trusted": true
      },
      "execution_count": 2,
      "outputs": [],
      "id": "69629c98"
    },
    {
      "cell_type": "markdown",
      "source": "Протестируйте Вашу функцию на трех примерах:",
      "metadata": {
        "id": "74e3338b"
      },
      "id": "74e3338b"
    },
    {
      "cell_type": "code",
      "source": "solve(1, 2, 1)",
      "metadata": {
        "id": "e4eb7fb5",
        "trusted": true
      },
      "execution_count": 7,
      "outputs": [
        {
          "name": "stdout",
          "text": "x1 = -1.0\n",
          "output_type": "stream"
        }
      ],
      "id": "e4eb7fb5"
    },
    {
      "cell_type": "code",
      "source": "solve(2, 5, 3)",
      "metadata": {
        "id": "1f029ac1",
        "trusted": true
      },
      "execution_count": 8,
      "outputs": [
        {
          "name": "stdout",
          "text": "x1 = -1.0\nx2 = -1.5\n",
          "output_type": "stream"
        }
      ],
      "id": "1f029ac1"
    },
    {
      "cell_type": "code",
      "source": "solve(1, -1, 3)",
      "metadata": {
        "id": "40ccf1ca",
        "trusted": true
      },
      "execution_count": 9,
      "outputs": [
        {
          "name": "stdout",
          "text": "Ответа нет\n",
          "output_type": "stream"
        }
      ],
      "id": "40ccf1ca"
    },
    {
      "cell_type": "code",
      "source": "solve(1, -100, 3)",
      "metadata": {
        "trusted": true
      },
      "execution_count": 10,
      "outputs": [
        {
          "name": "stdout",
          "text": "x1 = 99.96999099459595\nx2 = 0.030009005404053823\n",
          "output_type": "stream"
        }
      ],
      "id": "3ca06ef0-b3c0-4a58-8179-b7d4253b6f75"
    },
    {
      "cell_type": "code",
      "source": "",
      "metadata": {},
      "execution_count": null,
      "outputs": [],
      "id": "531683a6-0d98-481e-9f3d-140375ca262d"
    }
  ]
}